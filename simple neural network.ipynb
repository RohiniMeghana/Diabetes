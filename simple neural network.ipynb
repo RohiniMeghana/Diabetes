{
 "cells": [
  {
   "cell_type": "code",
   "execution_count": 1,
   "id": "050f3f16",
   "metadata": {},
   "outputs": [],
   "source": [
    "import numpy\n",
    "import random\n",
    "import os\n"
   ]
  },
  {
   "cell_type": "code",
   "execution_count": 2,
   "id": "a4e00e0c",
   "metadata": {},
   "outputs": [],
   "source": [
    "#initialize learning rate, bias, and weights\n",
    "learning_rate = 1 \n",
    "bias = 1\n"
   ]
  },
  {
   "cell_type": "code",
   "execution_count": 3,
   "id": "1305affa",
   "metadata": {},
   "outputs": [],
   "source": [
    "# Random weights\n",
    "weights = [random.random(),random.random(),random.random()]\n"
   ]
  },
  {
   "cell_type": "code",
   "execution_count": 4,
   "id": "87b8328f",
   "metadata": {},
   "outputs": [
    {
     "name": "stdout",
     "output_type": "stream",
     "text": [
      "enter a value for x: 5\n",
      "enter a value for y: 8\n",
      "Output is :  1\n"
     ]
    }
   ],
   "source": [
    "\n",
    "def Perceptron(input1, input2, output) :\n",
    "   out = input1*weights[0]+input2*weights[1]+bias*weights[2]\n",
    "   if out > 0: #activation function (here Heaviside)\n",
    "      out = 1\n",
    "   else :\n",
    "      out = 0\n",
    "   error = output-out\n",
    "   #update weights\n",
    "   weights[0] += error * input1 * learning_rate\n",
    "   weights[1] += error * input2 * learning_rate\n",
    "   weights[2] += error * bias * learning_rate\n",
    "for i in range(50) :\n",
    "   Perceptron(1,1,1) # For True or true\n",
    "   Perceptron(1,0,1) #For True or false\n",
    "   Perceptron(0,1,1) #For False or true\n",
    "   Perceptron(0,0,0) #For False or false\n",
    "   \n",
    "x = int(input(\"enter a value for x: \"))\n",
    "y = int(input(\"enter a value for y: \"))\n",
    "output_perceptron = x*weights[0] + y*weights[1] + bias*weights[2]\n",
    "if output_perceptron > 0 :\n",
    "   output_perceptron = 1\n",
    "else :\n",
    "   output_perceptron = 0\n",
    "print( \"Output is : \", output_perceptron)\n"
   ]
  },
  {
   "cell_type": "code",
   "execution_count": null,
   "id": "f0b9ce1d",
   "metadata": {},
   "outputs": [],
   "source": []
  }
 ],
 "metadata": {
  "kernelspec": {
   "display_name": "Python 3 (ipykernel)",
   "language": "python",
   "name": "python3"
  },
  "language_info": {
   "codemirror_mode": {
    "name": "ipython",
    "version": 3
   },
   "file_extension": ".py",
   "mimetype": "text/x-python",
   "name": "python",
   "nbconvert_exporter": "python",
   "pygments_lexer": "ipython3",
   "version": "3.11.5"
  }
 },
 "nbformat": 4,
 "nbformat_minor": 5
}
